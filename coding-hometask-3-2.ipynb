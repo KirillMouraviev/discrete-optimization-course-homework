{
 "cells": [
  {
   "cell_type": "markdown",
   "metadata": {
    "collapsed": true
   },
   "source": [
    "## Задача 3-2. Задача TSP: нижняя оценка Гельда—Карпа.\n",
    "\n",
    "В этой задаче Вам предлагается релизовать алгоритм Гельда—Карпа для нижней оценки стоимости решения в задаче Euclidean TSP.\n",
    "\n",
    "Сделайте следующее:\n",
    "* Скачайте файл [`tsp-instances.zip`](https://github.com/dainiak/discrete-optimization-course/raw/master/tsp-instances.zip) и разархивируйте из него файлы со входами задачи TSP. Это в точности те же входные данные, что и в задании 3-1.\n",
    "* Реализуйте функцию `lower_bound_tsp`. При этом можно пользоваться каким-нибудь стандартным алгоритмом построения минимального остовного дерева из библиотеки [`networkx`](https://networkx.github.io/), входящей в состав дистрибутива Anaconda.\n",
    "* Запустите функцию `run_all()`, чтобы протестировать свой код, и напишите полученные, как следствия, верхние оценки погрешностей решений, которые были получены Вашими алгоритмами NN и NI при решении задания 3-1. Запишите свои выводы в 1-2 предложениях в последней ячейке ipynb-файла."
   ]
  },
  {
   "cell_type": "code",
   "execution_count": 2,
   "metadata": {
    "collapsed": true
   },
   "outputs": [],
   "source": [
    "from typing import List, Tuple\n",
    "from math import sqrt\n",
    "from itertools import combinations, islice\n",
    "\n",
    "\n",
    "def read_tsp_instance(filename: str) -> List[Tuple[int,int]]:\n",
    "    with open(filename, 'r') as file:\n",
    "        coordinates = []\n",
    "        for line in file:\n",
    "            line = line.strip().lower()\n",
    "            if line.startswith('dimension'):\n",
    "                coordinates = [(0, 0)] * int(line.split()[-1])\n",
    "            tokens = line.split()\n",
    "            if len(tokens) == 3 and tokens[0].isdecimal():\n",
    "                tokens = line.split()\n",
    "                coordinates[int(tokens[0])-1] = tuple(map(float, tokens[1:]))\n",
    "        return coordinates\n",
    "\n",
    "\n",
    "def euclidean_distance(point1: Tuple[int,int], point2: Tuple[int,int]) -> float:\n",
    "    return sqrt((point1[0]-point2[0]) ** 2 + (point1[1]-point2[1]) ** 2)"
   ]
  },
  {
   "cell_type": "code",
   "execution_count": 4,
   "metadata": {
    "collapsed": true
   },
   "outputs": [],
   "source": [
    "import networkx as nx"
   ]
  },
  {
   "cell_type": "code",
   "execution_count": 19,
   "metadata": {
    "collapsed": false
   },
   "outputs": [],
   "source": [
    "def lower_bound_tsp(vertex_coordinates: List[Tuple[int,int]]) -> float:\n",
    "    # Replace this trivial lower bound with Held—Karp:\n",
    "    G = nx.Graph()\n",
    "    n = len(vertex_coordinates)\n",
    "    for i in range(n):\n",
    "        for j in range(i + 1, n):\n",
    "            G.add_edge(i, j, weight=euclidean_distance(vertex_coordinates[i], vertex_coordinates[j]))\n",
    "    mst = nx.minimum_spanning_tree(G)\n",
    "    res = sum([edge[-1]['weight'] for edge in mst.edges(data=True)])\n",
    "    return res"
   ]
  },
  {
   "cell_type": "code",
   "execution_count": 31,
   "metadata": {
    "collapsed": true
   },
   "outputs": [],
   "source": [
    "import time\n",
    "from os.path import exists\n",
    "\n",
    "def run_all():\n",
    "    instance_filenames = ['pr107.tsp', 'pr152.tsp', 'd198.tsp', 'pr439.tsp', 'd493.tsp', 'd657.tsp', 'd2103.tsp']\n",
    "    for filename in instance_filenames:\n",
    "        if not exists('ht3-2/' + filename):\n",
    "            print('File not found: “{}”. Skipping this instance.'.format(filename))\n",
    "            continue\n",
    "        instance = read_tsp_instance('ht3-2/' + filename)\n",
    "        print('Instance {}…'.format(filename), end='')\n",
    "        time_start = time.monotonic()\n",
    "        bound = lower_bound_tsp(instance)\n",
    "        time_nn = time.monotonic()-time_start\n",
    "        print(' done in {:.2} seconds with lower bound {}'.format(time_nn, int(bound)))\n",
    "        lower_bound[filename] = int(bound)"
   ]
  },
  {
   "cell_type": "code",
   "execution_count": 32,
   "metadata": {
    "collapsed": false
   },
   "outputs": [
    {
     "name": "stdout",
     "output_type": "stream",
     "text": [
      "Instance pr107.tsp… done in 0.077 seconds with lower bound 34757\n",
      "Instance pr152.tsp… done in 0.14 seconds with lower bound 59168\n",
      "Instance d198.tsp… done in 0.24 seconds with lower bound 11767\n",
      "Instance pr439.tsp… done in 1.3 seconds with lower bound 92193\n",
      "Instance d493.tsp… done in 1.7 seconds with lower bound 29284\n",
      "Instance d657.tsp… done in 3.5 seconds with lower bound 42490\n",
      "Instance d2103.tsp… done in 3.7e+01 seconds with lower bound 76300\n"
     ]
    }
   ],
   "source": [
    "lower_bound = {}\n",
    "run_all()"
   ]
  },
  {
   "cell_type": "code",
   "execution_count": 33,
   "metadata": {
    "collapsed": false
   },
   "outputs": [
    {
     "name": "stdout",
     "output_type": "stream",
     "text": [
      "{'pr107.tsp': 34757, 'pr152.tsp': 59168, 'd198.tsp': 11767, 'pr439.tsp': 92193, 'd493.tsp': 29284, 'd657.tsp': 42490, 'd2103.tsp': 76300}\n"
     ]
    }
   ],
   "source": [
    "print(lower_bound)"
   ]
  },
  {
   "cell_type": "markdown",
   "metadata": {},
   "source": [
    "Для сравнения: решения этих же графов с помощью Nearest Neighbour и Nearest Insertion:\n",
    "\n",
    "Solving instance d198.tsp… done in 0.029 seconds with tour length 18620 using NN and in 0.16 seconds with tour length 17631 using NI\n",
    "\n",
    "Solving instance d493.tsp… done in 0.18 seconds with tour length 43646 using NN and in 1.5 seconds with tour length 39982 using NI\n",
    "\n",
    "Solving instance d657.tsp… done in 0.32 seconds with tour length 62176 using NN and in 3.9 seconds with tour length 57906 using NI\n",
    "\n",
    "Solving instance d2103.tsp… done in 3.2 seconds with tour length 87468 using NN and in 1.4e+02 seconds with tour length 87530 using NI\n",
    "\n",
    "Solving instance pr107.tsp… done in 0.0085 seconds with tour length 46678 using NN and in 0.05 seconds with tour length 51667 using NI\n",
    "\n",
    "Solving instance pr152.tsp… done in 0.017 seconds with tour length 85702 using NN and in 0.093 seconds with tour length 88530 using NI\n",
    "\n",
    "Solving instance pr439.tsp… done in 0.14 seconds with tour length 131282 using NN and in 1.1 seconds with tour length 130067 using NI\n"
   ]
  },
  {
   "cell_type": "markdown",
   "metadata": {},
   "source": [
    "Запишем это всё в виде таблицы:"
   ]
  },
  {
   "cell_type": "code",
   "execution_count": 34,
   "metadata": {
    "collapsed": false
   },
   "outputs": [
    {
     "data": {
      "text/html": [
       "<div>\n",
       "<table border=\"1\" class=\"dataframe\">\n",
       "  <thead>\n",
       "    <tr style=\"text-align: right;\">\n",
       "      <th></th>\n",
       "      <th>lower bound</th>\n",
       "      <th>NN</th>\n",
       "      <th>NI</th>\n",
       "    </tr>\n",
       "  </thead>\n",
       "  <tbody>\n",
       "    <tr>\n",
       "      <th>pr107.tsp</th>\n",
       "      <td>34757</td>\n",
       "      <td>46678</td>\n",
       "      <td>51667</td>\n",
       "    </tr>\n",
       "    <tr>\n",
       "      <th>pr152.tsp</th>\n",
       "      <td>59168</td>\n",
       "      <td>85702</td>\n",
       "      <td>88530</td>\n",
       "    </tr>\n",
       "    <tr>\n",
       "      <th>d198.tsp</th>\n",
       "      <td>11767</td>\n",
       "      <td>18620</td>\n",
       "      <td>17631</td>\n",
       "    </tr>\n",
       "    <tr>\n",
       "      <th>pr439.tsp</th>\n",
       "      <td>92193</td>\n",
       "      <td>131282</td>\n",
       "      <td>130067</td>\n",
       "    </tr>\n",
       "    <tr>\n",
       "      <th>d493.tsp</th>\n",
       "      <td>29284</td>\n",
       "      <td>43646</td>\n",
       "      <td>39982</td>\n",
       "    </tr>\n",
       "    <tr>\n",
       "      <th>d657.tsp</th>\n",
       "      <td>42490</td>\n",
       "      <td>62176</td>\n",
       "      <td>57906</td>\n",
       "    </tr>\n",
       "    <tr>\n",
       "      <th>d2103.tsp</th>\n",
       "      <td>76300</td>\n",
       "      <td>87648</td>\n",
       "      <td>87530</td>\n",
       "    </tr>\n",
       "  </tbody>\n",
       "</table>\n",
       "</div>"
      ],
      "text/plain": [
       "           lower bound      NN      NI\n",
       "pr107.tsp        34757   46678   51667\n",
       "pr152.tsp        59168   85702   88530\n",
       "d198.tsp         11767   18620   17631\n",
       "pr439.tsp        92193  131282  130067\n",
       "d493.tsp         29284   43646   39982\n",
       "d657.tsp         42490   62176   57906\n",
       "d2103.tsp        76300   87648   87530"
      ]
     },
     "execution_count": 34,
     "metadata": {},
     "output_type": "execute_result"
    }
   ],
   "source": [
    "import pandas as pd\n",
    "table = pd.DataFrame(columns = ['lower bound', 'NN', 'NI'])\n",
    "for column in table.columns:\n",
    "    table[column] = [None] * 7\n",
    "table.index = ['pr107.tsp', 'pr152.tsp', 'd198.tsp', 'pr439.tsp', 'd493.tsp', 'd657.tsp', 'd2103.tsp']\n",
    "table['lower bound'] = [lower_bound[x] for x in table.index]\n",
    "NN = {'d198.tsp':18620, 'd493.tsp':43646, 'd657.tsp':62176, 'd2103.tsp':87648, 'pr107.tsp':46678, 'pr152.tsp':85702, 'pr439.tsp':131282}\n",
    "NI = {'d198.tsp':17631, 'd493.tsp':39982, 'd657.tsp':57906, 'd2103.tsp':87530, 'pr107.tsp':51667, 'pr152.tsp':88530, 'pr439.tsp':130067}\n",
    "table['NN'] = [NN[x] for x in table.index]\n",
    "table['NI'] = [NI[x] for x in table.index]\n",
    "table.head(7)"
   ]
  },
  {
   "cell_type": "markdown",
   "metadata": {},
   "source": [
    "## Выводы\n",
    "Алгоритмы NN и NI дают результаты не более чем в 1,5 раза хуже нижней оценки Гельда-Карпа. Значит, они решают задачу довольно эффективно"
   ]
  }
 ],
 "metadata": {
  "kernelspec": {
   "display_name": "Python 3",
   "language": "python",
   "name": "python3"
  },
  "language_info": {
   "codemirror_mode": {
    "name": "ipython",
    "version": 3
   },
   "file_extension": ".py",
   "mimetype": "text/x-python",
   "name": "python",
   "nbconvert_exporter": "python",
   "pygments_lexer": "ipython3",
   "version": "3.6.0"
  }
 },
 "nbformat": 4,
 "nbformat_minor": 1
}
