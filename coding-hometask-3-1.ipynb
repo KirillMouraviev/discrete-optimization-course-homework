{
 "cells": [
  {
   "cell_type": "markdown",
   "metadata": {
    "deletable": true,
    "editable": true
   },
   "source": [
    "# Задание по курсу «Дискретная оптимизация», МФТИ, весна 2017"
   ]
  },
  {
   "cell_type": "markdown",
   "metadata": {
    "collapsed": true,
    "deletable": true,
    "editable": true
   },
   "source": [
    "## Задача 3-1. Задача TSP: инкрементальные алгоритмы.\n",
    "\n",
    "В этой задаче Вам предлагается сравнить алгоритмы Nearest Neighbour и Nearest Insertion в задаче Euclidean TSP.\n",
    "\n",
    "**Даны:**\n",
    "* Координаты точек плоскости, являющихся вершинами графа.\n",
    "\n",
    "**Найти:**\n",
    "* Перестановку вершин, задающих минимальный по длине гамильтонов цикл в графе.\n",
    "\n",
    "Сделайте следующее:\n",
    "* Скачайте файл [`tsp-instances.zip`](https://github.com/dainiak/discrete-optimization-course/raw/master/tsp-instances.zip) и разархивируйте из него файлы со входами задачи TSP.\n",
    "* Реализуйте функции `solve_tsp_nearest_neighbour` и `solve_tsp_nearest_insertion`.\n",
    "* Запустите функцию `run_all()`, чтобы протестировать свой код и сравнить качество решений, получаемых Nearest Neighbour и Nearest Insertion. Сильно ли они отличаются? Запишите свои качественные выводы в 1-2 предложениях в последней ячейке ipynb-файла."
   ]
  },
  {
   "cell_type": "code",
   "execution_count": 1,
   "metadata": {
    "collapsed": true,
    "deletable": true,
    "editable": true
   },
   "outputs": [],
   "source": [
    "def read_tsp_instance(filename):\n",
    "    with open(filename, 'r') as file:\n",
    "        coordinates = []\n",
    "        for line in file:\n",
    "            line = line.strip().lower()\n",
    "            if line.startswith('dimension'):\n",
    "                coordinates = [(0,0)] * int(line.split()[-1])\n",
    "            tokens = line.split()\n",
    "            if len(tokens) == 3 and tokens[0].isdecimal():\n",
    "                tokens = line.split()\n",
    "                coordinates[int(tokens[0])-1] = tuple(map(float, tokens[1:]))\n",
    "        return coordinates\n",
    "\n",
    "from math import sqrt\n",
    "\n",
    "def euclidean_distance(point1, point2):\n",
    "    return sqrt((point1[0]-point2[0]) ** 2 + (point1[1]-point2[1]) ** 2)\n",
    "    \n",
    "def calculate_tour_length(instance, permutation):\n",
    "    n = len(permutation)\n",
    "    return sum(euclidean_distance(instance[permutation[i]], instance[permutation[(i+1) % n]]) for i in range(len(permutation)))"
   ]
  },
  {
   "cell_type": "code",
   "execution_count": 118,
   "metadata": {
    "collapsed": false,
    "deletable": true,
    "editable": true
   },
   "outputs": [
    {
     "name": "stdout",
     "output_type": "stream",
     "text": [
      "18620.073812019415 22514.12084286643\n"
     ]
    }
   ],
   "source": [
    "def solve_tsp_nearest_neighbour(instance):\n",
    "    n = len(instance)\n",
    "    cycle = [0]\n",
    "    used = [False] * n\n",
    "    used[0] = True\n",
    "    for i in range(n - 1):\n",
    "        min_dist = 10 ** 18\n",
    "        nearest = 0\n",
    "        for j in range(n):\n",
    "            if not used[j]:\n",
    "                d = euclidean_distance(instance[cycle[i]], instance[j])\n",
    "                if d < min_dist:\n",
    "                    min_dist = d\n",
    "                    nearest = j\n",
    "        cycle.append(nearest)\n",
    "        used[nearest] = True\n",
    "    return cycle\n",
    "\n",
    "for file in ['d198.tsp', 'd493.tsp', 'd657.tsp', 'd2103.tsp', 'pr107.tsp', 'pr152.tsp', 'pr439.tsp']:\n",
    "    instance = read_tsp_instance(file)\n",
    "    solution = solve_tsp_nearest_neighbour(instance)\n",
    "    print(calculate_tour_length(instance, solution), calculate_tour_length(instance, range(len(instance))))"
   ]
  },
  {
   "cell_type": "code",
   "execution_count": 13,
   "metadata": {
    "collapsed": true
   },
   "outputs": [],
   "source": [
    "import numpy as np"
   ]
  },
  {
   "cell_type": "code",
   "execution_count": 117,
   "metadata": {
    "collapsed": false,
    "deletable": true,
    "editable": true
   },
   "outputs": [],
   "source": [
    "def solve_tsp_nearest_insertion(instance):\n",
    "    def w(i, j):\n",
    "        return euclidean_distance(instance[i], instance[j])\n",
    "    \n",
    "    n = len(instance)\n",
    "    cycle = [0]\n",
    "    used = [False] * n\n",
    "    used[0] = True\n",
    "    dst = [w(0, i) for i in range(1, n)]\n",
    "    cycle.append(dst.index(min(dst)) + 1)\n",
    "    used[cycle[1]] = True\n",
    "    a = list(range(1, n))\n",
    "    not_in_cycle = a[:cycle[1] - 1] + a[cycle[1]:]\n",
    "    for i in range(n - 2):\n",
    "        k = len(cycle)\n",
    "        m = n - len(cycle)\n",
    "        #Использую numpy.arrays, чтобы ускорить вычисления - код работает 2 минуты вместо 2 часов\n",
    "        A = np.array([list(instance[i]) for i in cycle]).T\n",
    "        B = np.array([list(instance[i]) for i in not_in_cycle]).T\n",
    "        A1 = np.tile(A, m).reshape((2, m, k))\n",
    "        A1 = np.array([x.T for x in A1])\n",
    "        B1 = np.tile(B, k).reshape((2, k, m))\n",
    "        D = np.sqrt((A1[0] - B1[0]) ** 2 + (A1[1] - B1[1]) ** 2)# Массив попарных расстояний между всеми вершинами, \\\n",
    "            #включенными в цикл и всеми не включенными\n",
    "        dist_v_u1_v_u2 = D + np.roll(D, 1, axis=0)#dist_v_u1_v_u2[i][j] = D[i][j] - D[i - 1][j]\n",
    "        neigh_dist_in_cycle = np.array([w(cycle[i - 1], cycle[i]) for i in range(k)])\n",
    "        M = dist_v_u1_v_u2.T - neigh_dist_in_cycle#w(v, u1) + w(v, u2) - w(u1, u2)\n",
    "        p = np.argmin(dist_v_u1_v_u2.T - neigh_dist_in_cycle)\n",
    "        min_delta = np.min(dist_v_u1_v_u2.T - neigh_dist_in_cycle)\n",
    "        v = not_in_cycle[p // k]\n",
    "        u1 = cycle[p % k - 1]\n",
    "        u2 = cycle[p % k]\n",
    "        if i == 0:\n",
    "            for j in range(k):\n",
    "                for t in range(m):\n",
    "                    cur_d = w(cycle[j], not_in_cycle[t]) + w(cycle[j - 1], not_in_cycle[t]) - w(cycle[j - 1], cycle[j])\n",
    "                    assert(cur_d > min_delta - 1e-8)\n",
    "        assert(abs(w(v, u1) + w(v, u2) - w(u1, u2) - min_delta) < 1e-8)\n",
    "        cycle = cycle[:p % k] + [v] + cycle[p % k:]\n",
    "        not_in_cycle = not_in_cycle[:p // k] + not_in_cycle[p // k + 1:]\n",
    "    assert(len(cycle) == n)\n",
    "    return cycle"
   ]
  },
  {
   "cell_type": "code",
   "execution_count": 60,
   "metadata": {
    "collapsed": false,
    "scrolled": true
   },
   "outputs": [
    {
     "name": "stdout",
     "output_type": "stream",
     "text": [
      "[[11 12 13 14 15]\n",
      " [ 1  2  3  4  5]\n",
      " [ 6  7  8  9 10]]\n"
     ]
    }
   ],
   "source": [
    "a = np.array([[1, 2, 3, 4, 5], [6, 7, 8, 9, 10], [11, 12, 13, 14, 15]])\n",
    "print(np.roll(a, 1, axis=0))"
   ]
  },
  {
   "cell_type": "code",
   "execution_count": 102,
   "metadata": {
    "collapsed": false,
    "deletable": true,
    "editable": true
   },
   "outputs": [],
   "source": [
    "import time\n",
    "from os.path import exists\n",
    "\n",
    "def run_all():\n",
    "    instance_filenames = ['d198.tsp', 'd493.tsp', 'd657.tsp', 'd2103.tsp', 'pr107.tsp', 'pr152.tsp', 'pr439.tsp']\n",
    "    for filename in instance_filenames:\n",
    "        if not exists(filename):\n",
    "            print('File not found: “{}”. Skipping this instance.'.format(filename))\n",
    "            continue\n",
    "        instance = read_tsp_instance(filename)\n",
    "        print('Solving instance {}…'.format(filename), end='')\n",
    "        time_start = time.monotonic()\n",
    "        quality_nn = calculate_tour_length(instance, solve_tsp_nearest_neighbour(instance))\n",
    "        time_nn = time.monotonic()-time_start\n",
    "        time_start = time.monotonic()\n",
    "        quality_ni = calculate_tour_length(instance, solve_tsp_nearest_insertion(instance))\n",
    "        time_ni = time.monotonic()-time_start\n",
    "        print(' done in {:.2} seconds with tour length {} using NN and in {:.2} seconds with tour length {} using NI'.format(time_nn, int(quality_nn), time_ni, int(quality_ni)))"
   ]
  },
  {
   "cell_type": "code",
   "execution_count": 103,
   "metadata": {
    "collapsed": false,
    "deletable": true,
    "editable": true
   },
   "outputs": [
    {
     "name": "stdout",
     "output_type": "stream",
     "text": [
      "Solving instance d198.tsp… done in 0.029 seconds with tour length 18620 using NN and in 0.16 seconds with tour length 17631 using NI\n",
      "Solving instance d493.tsp… done in 0.18 seconds with tour length 43646 using NN and in 1.5 seconds with tour length 39982 using NI\n",
      "Solving instance d657.tsp… done in 0.32 seconds with tour length 62176 using NN and in 3.9 seconds with tour length 57906 using NI\n",
      "Solving instance d2103.tsp… done in 3.2 seconds with tour length 87468 using NN and in 1.4e+02 seconds with tour length 87530 using NI\n",
      "Solving instance pr107.tsp… done in 0.0085 seconds with tour length 46678 using NN and in 0.05 seconds with tour length 51667 using NI\n",
      "Solving instance pr152.tsp… done in 0.017 seconds with tour length 85702 using NN and in 0.093 seconds with tour length 88530 using NI\n",
      "Solving instance pr439.tsp… done in 0.14 seconds with tour length 131282 using NN and in 1.1 seconds with tour length 130067 using NI\n"
     ]
    }
   ],
   "source": [
    "run_all()"
   ]
  },
  {
   "cell_type": "markdown",
   "metadata": {
    "collapsed": true,
    "deletable": true,
    "editable": true
   },
   "source": [
    "## Выводы\n",
    "\n",
    "В целом Nearest Insertion дает результат чуть лучше, но не всегда. Но и работает NI дольше - за $O(n^{3})$ в наивной реализации, в то время как NN - за $O(n^{2})$ Сравнивая результаты с тривиальной перестановкой, убедился, что алгоритмы неплохо оптимизируют цикл."
   ]
  }
 ],
 "metadata": {
  "kernelspec": {
   "display_name": "Python 3",
   "language": "python",
   "name": "python3"
  },
  "language_info": {
   "codemirror_mode": {
    "name": "ipython",
    "version": 3
   },
   "file_extension": ".py",
   "mimetype": "text/x-python",
   "name": "python",
   "nbconvert_exporter": "python",
   "pygments_lexer": "ipython3",
   "version": "3.6.0"
  }
 },
 "nbformat": 4,
 "nbformat_minor": 2
}
