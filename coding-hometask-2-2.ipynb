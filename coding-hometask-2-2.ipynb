{
 "cells": [
  {
   "cell_type": "markdown",
   "metadata": {
    "deletable": true,
    "editable": true
   },
   "source": [
    "# Задание по курсу «Дискретная оптимизация», МФТИ, весна 2017"
   ]
  },
  {
   "cell_type": "markdown",
   "metadata": {
    "deletable": true,
    "editable": true
   },
   "source": [
    "## Задача 2-2. Эвристика Кернигана—Лина\n",
    "\n",
    "В этой задаче Вам предлагается добавить к локальному поиска в задаче о сбалансированном разбиении графа эвристику Кернигана—Лина, когда мы, «застряв» в локальном минимуме, тем не менее пытаемся сделать несколько шагов из него, даже если они приводят к временному ухудшению. Надежда здесь на то, что после ухудшения может наступить заметное улучшение результата: нам удастся выпрыгнуть из локального оптимума. Мы рассматриваем безвесовый вариант задачи о разбиении с параметром балансировки $\\alpha=\\frac{1}{2}$:\n",
    "\n",
    "**Даны:**\n",
    "* $G=(V,E)$ — граф без весов на рёбрах\n",
    "\n",
    "**Найти:**\n",
    "* Разбиение $V=V'\\sqcup V''$, такое, что $V'=\\lfloor |V|/2 \\rfloor$ и число рёбер между $V'$ и $V''$ минимально возможное.\n",
    "\n",
    "Сделайте следующее:\n",
    "* Скачайте файл [`partition-instances.zip`](https://github.com/dainiak/discrete-optimization-course/raw/master/partition-instances.zip) и разархивируйте из него файлы со входами задачи.\n",
    "* Для каждого из графов найдите локальным поиском с эвристикой Кернигана—Лина локально минимальное (по количеству рёбер между частями) разбиение вершин графа на две части, мощности которых отличаются не более чем на единицу. \n",
    "* Реализуйте функцию `variable_depth_local_search`; она должна принимать на вход граф в формате, предоставляемом функцией `read_instance`, и возвращать найденное разбиение как множество вершин, лежащих в одной любой из двух компонент разбиения. Ваш локальный поиск должен начинаться с того разбиение, которое уже находится в переменной `starting_point`.\n",
    "* Подберите для каждого из четырёх входных графов глубину поиска так, чтобы он работал не более 60 секунд на Вашем компьютере, и сохраните информацию о подобранных параметрах и любые свои интересные наблюдения в отдельную ячейку настоящего ipynb-файла."
   ]
  },
  {
   "cell_type": "code",
   "execution_count": 1,
   "metadata": {
    "collapsed": true,
    "deletable": true,
    "editable": true
   },
   "outputs": [],
   "source": [
    "def read_instance(filename):\n",
    "    with open(filename, 'r') as file:\n",
    "        n_vertices = int(file.readline().strip().split()[0])\n",
    "        vertices, edges = set(range(1, n_vertices + 1)), set()\n",
    "        for u in range(1, n_vertices + 1):\n",
    "            for v in map(int, file.readline().strip().split()):\n",
    "                edges.add((u,v))\n",
    "        return (vertices, edges)"
   ]
  },
  {
   "cell_type": "code",
   "execution_count": 2,
   "metadata": {
    "collapsed": false
   },
   "outputs": [],
   "source": [
    "from random import randrange"
   ]
  },
  {
   "cell_type": "code",
   "execution_count": 3,
   "metadata": {
    "collapsed": true
   },
   "outputs": [],
   "source": [
    "import time\n",
    "import numpy as np"
   ]
  },
  {
   "cell_type": "code",
   "execution_count": 16,
   "metadata": {
    "collapsed": false,
    "deletable": true,
    "editable": true
   },
   "outputs": [],
   "source": [
    "def adj_list(v, e):\n",
    "    n = len(v)\n",
    "    E = [[] for i in range(n + 1)]\n",
    "    for v, u in e:\n",
    "        E[v].append(u)\n",
    "        E[u].append(v)\n",
    "    for i in range(n + 1):\n",
    "        E[i] = set(E[i])\n",
    "    return E\n",
    "\n",
    "def adj_matr(v, e):\n",
    "    n = len(v)\n",
    "    M = [[False] * (n + 1) for i in range(n + 1)]\n",
    "    for v, u in e:\n",
    "        M[v][u] = True\n",
    "        M[u][v] = True\n",
    "    return M\n",
    "\n",
    "def edges_between(V1, V2):\n",
    "    res = 0\n",
    "    for x in V1:\n",
    "        res += len(E[x] & V2)\n",
    "    return res\n",
    "\n",
    "def find_best_swap(V1, V2, maxN, used):\n",
    "    max_delta = -len(V1) ** 2 - len(V2) ** 2\n",
    "    argmin = (0, 0)\n",
    "    for i in range(maxN):\n",
    "        v = list(V1)[randrange(len(V1))]\n",
    "        u = list(V2)[randrange(len(V2))]\n",
    "        if used[v] or used[u]:\n",
    "            continue\n",
    "        V1_P = V1 - {v}\n",
    "        V2_P = V2 - {u}\n",
    "        delta = edges_between({u}, V1_P) + edges_between({v}, V2_P) - \\\n",
    "                edges_between({v}, V1_P) - edges_between({u}, V2_P)\n",
    "        if delta > max_delta:\n",
    "            max_delta = delta\n",
    "            argmin = (v, u)\n",
    "    return (max_delta, argmin)\n",
    "\n",
    "def from_canon_by_sparrows(V1, V2, used):\n",
    "    n = len(V1) + len(V2)\n",
    "    diff_exch = [0] * (n + 1)\n",
    "    for u, v in e:\n",
    "        if (u in V1) != (v in V1):\n",
    "            diff_exch[u] -= 1\n",
    "            diff_exch[v] -= 1\n",
    "        else:\n",
    "            diff_exch[u] += 1\n",
    "            diff_exch[v] += 1\n",
    "    diff_exch = np.array(diff_exch)\n",
    "    set_of_used = set()\n",
    "    for i in range(n + 1):\n",
    "        if used[i]:\n",
    "            set_of_used.add(i)\n",
    "    L1 = list(V1 - set_of_used)\n",
    "    L2 = list(V2 - set_of_used)\n",
    "    de1 = diff_exch[L1]\n",
    "    de2 = diff_exch[L2]\n",
    "    cut_M = (np.array(M))[np.ix_(L1, L2)]\n",
    "    old = edges_between(V1, V2)\n",
    "    new_V1 = (V1 - {L1[1]}) | {L2[0]}\n",
    "    new_V2 = (V2 - {L2[0]}) | {L1[1]}\n",
    "    new = edges_between(new_V1, new_V2)\n",
    "    De1 = np.tile(de1, de2.shape[0]).reshape((de2.shape[0], de1.shape[0]))\n",
    "    De2 = np.tile(de2, de1.shape[0]).reshape((de1.shape[0], de2.shape[0])).T\n",
    "    F = (De1 + De2) // 2 + cut_M.T\n",
    "    best_res = np.min(F)\n",
    "    p = np.argmin(F)\n",
    "    j = p // cut_M.shape[0]\n",
    "    i = p % cut_M.shape[0]\n",
    "    v = L1[i]\n",
    "    u = L2[j]\n",
    "    return (-best_res, (v, u))\n",
    "    \n",
    "\n",
    "def variable_depth_local_search(graph, hard_alg = True):\n",
    "    time_start = time.monotonic()\n",
    "    n = len(graph[0])\n",
    "    V = list(graph[0])\n",
    "    V1 = set(V[:n // 2])\n",
    "    V2 = set(graph[0]) - V1\n",
    "    cur_f = edges_between(V1, V2)\n",
    "    print(\"starting point:\", cur_f, \"edges\")\n",
    "    n_iter = 0\n",
    "    iterKL = 0\n",
    "    while True:\n",
    "        if time.monotonic() - time_start > 60:\n",
    "            break\n",
    "        n_iter += 1\n",
    "        if n_iter % report_freq == 0:\n",
    "            print(\"current result:\", cur_f)\n",
    "        used = [False] * (n + 1)\n",
    "        delta, argmin = find_best_swap(V1, V2, maxLS, used)\n",
    "        v = argmin[0]\n",
    "        u = argmin[1]\n",
    "        V1 = (V1 - {v}) | {u}\n",
    "        V2 = (V2 - {u}) | {v}\n",
    "        cur_f -= delta\n",
    "        if delta <= 0:\n",
    "            old_V1 = V1\n",
    "            old_V2 = V2\n",
    "            sum_delta = delta\n",
    "            V1 = (V1 - {v}) | {u}\n",
    "            V2 = (V2 - {u}) | {v}\n",
    "            used[v] = True\n",
    "            used[u] = True\n",
    "            for i in range(max_depth - 1):\n",
    "                iterKL += 1\n",
    "                if iterKL % report_freq == 0:\n",
    "                    print('after KL:', cur_f)\n",
    "                delta, argmin = find_best_swap(V1, V2, maxKL, used)\n",
    "                cur_f -= delta\n",
    "                sum_delta += delta\n",
    "                v = argmin[0]\n",
    "                u = argmin[1]\n",
    "                V1 = (V1 - {v}) | {u}\n",
    "                V2 = (V2 - {u}) | {v}\n",
    "                if time.monotonic() - time_start > 60:\n",
    "                    if sum_delta <= 0:\n",
    "                        V1 = old_V1\n",
    "                        V2 = old_V2\n",
    "                    break\n",
    "            if sum_delta <= 0:\n",
    "                sum_delta1 = sum_delta\n",
    "                if hard_alg:\n",
    "                    used = [False] * (n + 1)\n",
    "                    for i in range(max_depth_f):\n",
    "                        if time.monotonic() - time_start > 60:\n",
    "                            if sum_delta1 <= 0:\n",
    "                                V1 = old_V1\n",
    "                                V2 = old_V2\n",
    "                            return V1\n",
    "                        delta, (v, u) = from_canon_by_sparrows(V1, V2, used)\n",
    "                        used[u] = True\n",
    "                        used[v] = True\n",
    "                        cur_f -= delta\n",
    "                        print(\"after FCBS:\", cur_f)\n",
    "                        sum_delta1 += delta\n",
    "                        V1 = (V1 - {v}) | {u}\n",
    "                        V2 = (V2 - {u}) | {v}\n",
    "                if sum_delta1 <= 0:\n",
    "                    V1 = old_V1\n",
    "                    V2 = old_V2\n",
    "                break\n",
    "    return V1"
   ]
  },
  {
   "cell_type": "code",
   "execution_count": 18,
   "metadata": {
    "collapsed": false
   },
   "outputs": [
    {
     "name": "stdout",
     "output_type": "stream",
     "text": [
      "starting point: 1927 edges\n",
      "current result: 1845\n",
      "current result: 1776\n",
      "current result: 1706\n",
      "current result: 1627\n",
      "current result: 1558\n",
      "current result: 1498\n",
      "current result: 1458\n",
      "current result: 1420\n",
      "current result: 1380\n",
      "current result: 1342\n",
      "current result: 1310\n",
      "current result: 1249\n",
      "after KL: 1244\n",
      "after KL: 1203\n",
      "current result: 1188\n",
      "after KL: 1165\n",
      "after KL: 1140\n",
      "after KL: 1125\n",
      "after KL: 1112\n",
      "after KL: 1096\n",
      "after KL: 1082\n",
      "current result: 1079\n",
      "after KL: 1063\n",
      "after KL: 1054\n",
      "after KL: 1043\n",
      "after FCBS: 1041\n",
      "after FCBS: 1039\n",
      "after FCBS: 1037\n",
      "after FCBS: 1035\n",
      "after FCBS: 1034\n",
      "after FCBS: 1032\n",
      "after FCBS: 1029\n",
      "after FCBS: 1028\n",
      "after FCBS: 1027\n",
      "after FCBS: 1025\n",
      "1025\n",
      "CPU times: user 33.5 s, sys: 296 ms, total: 33.8 s\n",
      "Wall time: 34.1 s\n"
     ]
    }
   ],
   "source": [
    "%%time\n",
    "v, e = read_instance('ht2-2/add20.graph')\n",
    "E = adj_list(v, e)\n",
    "M = adj_matr(v, e)\n",
    "max_depth = 10\n",
    "max_depth_f = 10\n",
    "maxLS = 300\n",
    "maxKL = 500\n",
    "report_freq = 20\n",
    "V1 = variable_depth_local_search((v, e))\n",
    "V2 = set(v) - V1\n",
    "print(edges_between(V1, V2))"
   ]
  },
  {
   "cell_type": "code",
   "execution_count": 20,
   "metadata": {
    "collapsed": false
   },
   "outputs": [
    {
     "name": "stdout",
     "output_type": "stream",
     "text": [
      "16840 96464\n",
      "starting point: 1206 edges\n",
      "current result: 1206\n",
      "after KL: 1212\n",
      "after KL: 1219\n",
      "after FCBS: 1219\n",
      "after FCBS: 1212\n",
      "after FCBS: 1206\n",
      "after FCBS: 1204\n",
      "1204\n",
      "CPU times: user 1min 4s, sys: 2.58 s, total: 1min 7s\n",
      "Wall time: 1min 21s\n"
     ]
    }
   ],
   "source": [
    "%%time\n",
    "v, e = read_instance('ht2-2/cti.graph')\n",
    "E = adj_list(v, e)\n",
    "M = adj_matr(v, e)\n",
    "print(len(v), len(e))\n",
    "max_depth = 3\n",
    "max_depth_f = 10\n",
    "maxLS = 1000\n",
    "maxKL = 100\n",
    "report_freq = 1\n",
    "V1 = variable_depth_local_search((v, e))\n",
    "V2 = set(v) - V1\n",
    "print(edges_between(V1, V2))"
   ]
  },
  {
   "cell_type": "code",
   "execution_count": null,
   "metadata": {
    "collapsed": false
   },
   "outputs": [],
   "source": [
    "%%time\n",
    "v, e = read_instance('ht2-2/m14b.graph')\n",
    "E = adj_list(v, e)\n",
    "M = adj_matr(v, e)\n",
    "print(len(v), len(e))\n",
    "max_depth = 3\n",
    "max_depth_f = 10\n",
    "maxLS = 10\n",
    "maxKL = 10\n",
    "report_freq = 1\n",
    "V1 = variable_depth_local_search((v, e), False)\n",
    "V2 = set(v) - V1\n",
    "print(edges_between(V1, V2))"
   ]
  },
  {
   "cell_type": "code",
   "execution_count": 29,
   "metadata": {
    "collapsed": false
   },
   "outputs": [],
   "source": [
    "import time\n",
    "\n",
    "def get_quality(graph, partition_part):\n",
    "    if not (partition_part <= graph[0]) or abs(len(partition_part) - len(graph[0]) / 2) > 0.6:\n",
    "        return -1\n",
    "    other_part = set(graph[0]) - partition_part\n",
    "    return sum(1 for edge in graph[1] if set(edge) <= partition_part or set(edge) <= other_part )\n",
    "\n",
    "def run_all():\n",
    "    filenames = ['add20.graph', 'cti.graph', 't60k.graph', 'm14b.graph']\n",
    "    for filename in filenames:\n",
    "        instance = read_instance(filename)\n",
    "        print('Solving instance {}…'.format(filename), end='')\n",
    "        time_start = time.monotonic()\n",
    "        quality = get_quality(instance, variable_depth_local_search(instance))\n",
    "        time_elapsed = time.monotonic()-time_start\n",
    "        print(' done in {:.2} seconds with quality {}'.format(time_elapsed, quality))"
   ]
  },
  {
   "cell_type": "code",
   "execution_count": 30,
   "metadata": {
    "collapsed": false
   },
   "outputs": [
    {
     "name": "stdout",
     "output_type": "stream",
     "text": [
      "Solving instance add20.graph… done in 0.015 seconds with quality 11070\n",
      "Solving instance cti.graph… done in 0.16 seconds with quality 94052\n",
      "Solving instance t60k.graph… done in 0.23 seconds with quality 178236\n",
      "Solving instance m14b.graph… done in 5.4 seconds with quality 2888974\n"
     ]
    }
   ],
   "source": [
    "run_all()"
   ]
  },
  {
   "cell_type": "markdown",
   "metadata": {},
   "source": [
    "## Выводы\n",
    "(Здесь опишите свои наблюдения и подобранные параметры для каждогр из четырёх входных графов.)"
   ]
  }
 ],
 "metadata": {
  "kernelspec": {
   "display_name": "Python 3",
   "language": "python",
   "name": "python3"
  },
  "language_info": {
   "codemirror_mode": {
    "name": "ipython",
    "version": 3
   },
   "file_extension": ".py",
   "mimetype": "text/x-python",
   "name": "python",
   "nbconvert_exporter": "python",
   "pygments_lexer": "ipython3",
   "version": "3.6.0"
  }
 },
 "nbformat": 4,
 "nbformat_minor": 2
}
