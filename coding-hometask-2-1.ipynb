{
 "cells": [
  {
   "cell_type": "markdown",
   "metadata": {},
   "source": [
    "# Задание по курсу «Дискретная оптимизация», МФТИ, весна 2017"
   ]
  },
  {
   "cell_type": "markdown",
   "metadata": {},
   "source": [
    "## Задача 2-1. Применяем простейший локальный поиск.\n",
    "\n",
    "В этой задаче Вам предлагается попробовать стандартную технику локального поиска (local search) в применении к задаче о сбалансированном разбиении графа. Мы будем рассматривать безвесовый вариант задачи с параметром балансировки $\\alpha=\\frac{1}{2}$:\n",
    "\n",
    "**Даны:**\n",
    "* $G=(V,E)$ — граф без весов на рёбрах\n",
    "\n",
    "**Найти:**\n",
    "* Разбиение $V=V'\\sqcup V''$, такое, что $V'=\\lfloor |V|/2 \\rfloor$ и число рёбер между $V'$ и $V''$ минимально возможное.\n",
    "\n",
    "Сделайте следующее:\n",
    "* [Скачайте](http://mat.gsia.cmu.edu/COLOR/instances.html#XXMYC) файлы mycielX.col  (`for X in range(1,8)`).  (Если интересно, откуда такие графы берутся и чем интересны, см. конструкцию Зыкова—Мыцельского [здесь](https://docs.com/dainiak/3327).)\n",
    "* Для каждого из графов найдите локальным поиском локально минимальное (по количеству рёбер между частями) разбиение вершин графа на две части, мощности которых отличаются не более чем на единицу. \n",
    "* Ваша функция `basic_local_search` должна принимать на вход граф в формате, предоставляемом функцией `read_col_file`, и возвращать найденное локально минимальное разбиение просто как множество либо список вершин, лежащих в одной любой из двух компонент разбиения."
   ]
  },
  {
   "cell_type": "code",
   "execution_count": 1,
   "metadata": {
    "collapsed": true
   },
   "outputs": [],
   "source": [
    "def read_col_file(filename):\n",
    "    with open(filename, 'r') as file:\n",
    "        vertices, edges = set(), set()\n",
    "        for line in file:\n",
    "            line = line.strip()\n",
    "            if line.startswith('p'):\n",
    "                vertices = set(range(1, int(line.split()[-2]) + 1))\n",
    "            elif line.startswith('e'):\n",
    "                edges.add(tuple(map(int, line.split()[-2:])))\n",
    "        return (vertices, edges)"
   ]
  },
  {
   "cell_type": "code",
   "execution_count": 46,
   "metadata": {
    "collapsed": false
   },
   "outputs": [],
   "source": [
    "import itertools"
   ]
  },
  {
   "cell_type": "code",
   "execution_count": 96,
   "metadata": {
    "collapsed": false
   },
   "outputs": [],
   "source": [
    "k = 1 #Ширина окрестности\n",
    "\n",
    "def basic_local_search(graph):\n",
    "    def edges_between(v1, v2):\n",
    "        res = 0\n",
    "        for v in v1:\n",
    "            for u in v2:\n",
    "                if M[v][u]:\n",
    "                    res += 1\n",
    "        return res\n",
    "    \n",
    "    V = list(graph[0])\n",
    "    n = len(V)\n",
    "    E = list(graph[1])\n",
    "    M = [[False] * (n + 1) for i in range(n + 1)] # Для удобства запишем ребра в матрицу смежности\n",
    "    for e in E:\n",
    "        M[e[0]][e[1]] = True\n",
    "        M[e[1]][e[0]] = True\n",
    "    V1 = set(V[:len(V) // 2])\n",
    "    V2 = set(V[len(V) // 2:])\n",
    "    while True:\n",
    "        max_delta = 0\n",
    "        best_v1 = []\n",
    "        best_v2 = []\n",
    "        for v_s in itertools.product(V1, repeat=k):\n",
    "            for u_s in itertools.product(V2, repeat=k):\n",
    "                v1_s = set(v_s)\n",
    "                v2_s = set(u_s)\n",
    "                if len(v1_s) != len(v2_s):\n",
    "                    continue\n",
    "                V1_P = V1 - v1_s\n",
    "                V2_P = V2 - v2_s\n",
    "                delta = edges_between(V1_P, v2_s) + edges_between(v1_s, V2_P) - \\\n",
    "                      edges_between(v1_s, V1_P) - edges_between(v2_s, V2_P)\n",
    "                if delta > max_delta:\n",
    "                    max_delta = delta\n",
    "                    best_v1 = v1_s\n",
    "                    best_v2 = v2_s\n",
    "        if max_delta == 0:\n",
    "            break\n",
    "        new_V1 = (V1 - best_v1) | best_v2\n",
    "        new_V2 = (V2 - best_v2) | best_v1\n",
    "        V1 = new_V1\n",
    "        V2 = new_V2\n",
    "    print('V1: ', V1)\n",
    "    print('edges between: ', edges_between(V1, V2))\n",
    "    return V1"
   ]
  },
  {
   "cell_type": "code",
   "execution_count": 91,
   "metadata": {
    "collapsed": false
   },
   "outputs": [
    {
     "name": "stdout",
     "output_type": "stream",
     "text": [
      "V1:  {3, 4, 5, 6, 10}\n",
      "edges between:  8\n"
     ]
    },
    {
     "data": {
      "text/plain": [
       "{3, 4, 5, 6, 10}"
      ]
     },
     "execution_count": 91,
     "metadata": {},
     "output_type": "execute_result"
    }
   ],
   "source": [
    "graph = read_col_file('myciel3.col')\n",
    "basic_local_search(graph)"
   ]
  },
  {
   "cell_type": "code",
   "execution_count": 92,
   "metadata": {
    "collapsed": false
   },
   "outputs": [
    {
     "name": "stdout",
     "output_type": "stream",
     "text": [
      "V1:  {3, 4, 5, 7, 8, 9, 10, 12, 14, 16, 22}\n",
      "edges between:  27\n"
     ]
    },
    {
     "data": {
      "text/plain": [
       "{3, 4, 5, 7, 8, 9, 10, 12, 14, 16, 22}"
      ]
     },
     "execution_count": 92,
     "metadata": {},
     "output_type": "execute_result"
    }
   ],
   "source": [
    "graph = read_col_file('myciel4.col')\n",
    "basic_local_search(graph)"
   ]
  },
  {
   "cell_type": "code",
   "execution_count": 100,
   "metadata": {
    "collapsed": false
   },
   "outputs": [
    {
     "name": "stdout",
     "output_type": "stream",
     "text": [
      "V1:  {6, 8, 9, 10, 11, 13, 15, 16, 17, 18, 19, 20, 21, 22, 24, 26, 27, 28, 29, 31, 34, 45, 46}\n",
      "edges between:  92\n",
      "{6, 8, 9, 10, 11, 13, 15, 16, 17, 18, 19, 20, 21, 22, 24, 26, 27, 28, 29, 31, 34, 45, 46}\n"
     ]
    }
   ],
   "source": [
    "graph = read_col_file('myciel5.col')\n",
    "print(basic_local_search(graph))"
   ]
  },
  {
   "cell_type": "code",
   "execution_count": 98,
   "metadata": {
    "collapsed": false
   },
   "outputs": [
    {
     "name": "stdout",
     "output_type": "stream",
     "text": [
      "V1:  {2, 4, 7, 9, 12, 13, 16, 17, 18, 19, 20, 21, 24, 26, 27, 29, 30, 31, 32, 33, 35, 37, 39, 40, 41, 42, 43, 44, 46, 47, 48, 49, 50, 51, 52, 58, 59, 63, 69, 70, 71, 73, 75, 81, 82, 93, 94}\n",
      "edges between:  292\n",
      "{2, 4, 7, 9, 12, 13, 16, 17, 18, 19, 20, 21, 24, 26, 27, 29, 30, 31, 32, 33, 35, 37, 39, 40, 41, 42, 43, 44, 46, 47, 48, 49, 50, 51, 52, 58, 59, 63, 69, 70, 71, 73, 75, 81, 82, 93, 94}\n"
     ]
    }
   ],
   "source": [
    "graph = read_col_file('myciel6.col')\n",
    "print(basic_local_search(graph))"
   ]
  },
  {
   "cell_type": "code",
   "execution_count": 99,
   "metadata": {
    "collapsed": false
   },
   "outputs": [
    {
     "name": "stdout",
     "output_type": "stream",
     "text": [
      "V1:  {3, 5, 10, 12, 14, 15, 16, 17, 18, 19, 20, 21, 24, 26, 27, 28, 29, 30, 31, 32, 33, 35, 37, 38, 39, 40, 41, 42, 43, 44, 46, 49, 50, 51, 52, 54, 56, 57, 60, 61, 62, 63, 64, 65, 66, 67, 68, 70, 72, 73, 74, 75, 77, 78, 79, 80, 84, 85, 88, 89, 90, 91, 93, 94, 96, 97, 98, 99, 100, 105, 106, 107, 109, 110, 111, 116, 117, 118, 119, 121, 122, 123, 129, 132, 141, 142, 144, 145, 146, 147, 153, 165, 188, 189, 190}\n",
      "edges between:  913\n",
      "{3, 5, 10, 12, 14, 15, 16, 17, 18, 19, 20, 21, 24, 26, 27, 28, 29, 30, 31, 32, 33, 35, 37, 38, 39, 40, 41, 42, 43, 44, 46, 49, 50, 51, 52, 54, 56, 57, 60, 61, 62, 63, 64, 65, 66, 67, 68, 70, 72, 73, 74, 75, 77, 78, 79, 80, 84, 85, 88, 89, 90, 91, 93, 94, 96, 97, 98, 99, 100, 105, 106, 107, 109, 110, 111, 116, 117, 118, 119, 121, 122, 123, 129, 132, 141, 142, 144, 145, 146, 147, 153, 165, 188, 189, 190}\n"
     ]
    }
   ],
   "source": [
    "graph = read_col_file('myciel7.col')\n",
    "print(basic_local_search(graph))"
   ]
  }
 ],
 "metadata": {
  "kernelspec": {
   "display_name": "Python 3",
   "language": "python",
   "name": "python3"
  },
  "language_info": {
   "codemirror_mode": {
    "name": "ipython",
    "version": 3
   },
   "file_extension": ".py",
   "mimetype": "text/x-python",
   "name": "python",
   "nbconvert_exporter": "python",
   "pygments_lexer": "ipython3",
   "version": "3.6.0"
  }
 },
 "nbformat": 4,
 "nbformat_minor": 2
}
